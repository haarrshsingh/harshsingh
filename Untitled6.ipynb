{
  "nbformat": 4,
  "nbformat_minor": 0,
  "metadata": {
    "colab": {
      "provenance": [],
      "authorship_tag": "ABX9TyMEp8QJ/XOxxvWwvg0vtxZh",
      "include_colab_link": true
    },
    "kernelspec": {
      "name": "python3",
      "display_name": "Python 3"
    },
    "language_info": {
      "name": "python"
    }
  },
  "cells": [
    {
      "cell_type": "markdown",
      "metadata": {
        "id": "view-in-github",
        "colab_type": "text"
      },
      "source": [
        "<a href=\"https://colab.research.google.com/github/haarrshsingh/harshsingh/blob/main/Untitled6.ipynb\" target=\"_parent\"><img src=\"https://colab.research.google.com/assets/colab-badge.svg\" alt=\"Open In Colab\"/></a>"
      ]
    },
    {
      "cell_type": "code",
      "execution_count": null,
      "metadata": {
        "colab": {
          "base_uri": "https://localhost:8080/"
        },
        "id": "l9ABD_q1Pzk_",
        "outputId": "e6bde360-c2e0-4977-cdf5-57cc97590e2a"
      },
      "outputs": [
        {
          "output_type": "stream",
          "name": "stdout",
          "text": [
            "   loan_amount  income  credit_score  default\n",
            "0         5000    3000           700        0\n",
            "1         1000    5000           620        1\n",
            "2        15000    8000           580        1\n",
            "3         7000    4500           650        0\n",
            "4        12000    5500           710        0\n",
            "5         6000    3500           630        1\n",
            "6         9000    4000           680        0\n",
            "7        11000    6000           670        0\n"
          ]
        }
      ],
      "source": [
        "import pandas as pd\n",
        "from sklearn.model_selection import train_test_split\n",
        "#from sklearn.feature_extraction.text import CountVectorizer\n",
        "from sklearn.naive_bayes import MultinomialNB\n",
        "from sklearn.metrics import accuracy_score\n",
        "data={'loan_amount':[5000,1000,15000,7000,12000,6000,9000,11000],\n",
        "      'income':[3000,5000,8000,4500,5500,3500,4000,6000],\n",
        "      'credit_score':[700,620,580,650,710,630,680,670],\n",
        "      'default':[0,1,1,0,0,1,0,0]}\n",
        "df=pd.DataFrame(data)\n",
        "print(df)\n",
        "\n",
        "x=df[['loan_amount','income','credit_score']]\n",
        "y=df['default']\n",
        "x_train,x_test,y_train,y_test=train_test_split(x,y,test_size=0.25,random_state=45)\n",
        "\n",
        "model=MultinomialNB()\n",
        "model.fit(x_train,y_train)\n",
        "y_pred=model.predict(x_test)\n",
        "accuracy=accuracy_score(y_test,y_pred)"
      ]
    },
    {
      "cell_type": "code",
      "source": [
        "import pandas as pd\n",
        "from sklearn.model_selection import train_test_split\n",
        "#from sklearn.feature_extraction.text import CountVectorizer\n",
        "from sklearn.naive_bayes import MultinomialNB\n",
        "from sklearn.metrics import accuracy_score\n",
        "data={'age':[45,50,60,55,40,65,35,70],\n",
        "      'blood_pressure':[130,140,150,145,120,160,110,170],\n",
        "      'cholesterol':[200,250,270,240,220,280,210,300],\n",
        "      'heart_disease':[0,1,1,1,0,1,0,1]}\n",
        "df=pd.DataFrame(data)\n",
        "print(df)"
      ],
      "metadata": {
        "colab": {
          "base_uri": "https://localhost:8080/"
        },
        "id": "emSjplpGngii",
        "outputId": "20df897e-bb76-48f1-d1c0-cb216c746f6c"
      },
      "execution_count": null,
      "outputs": [
        {
          "output_type": "stream",
          "name": "stdout",
          "text": [
            "   age  blood_pressure  cholesterol  heart_disease\n",
            "0   45             130          200              0\n",
            "1   50             140          250              1\n",
            "2   60             150          270              1\n",
            "3   55             145          240              1\n",
            "4   40             120          220              0\n",
            "5   65             160          280              1\n",
            "6   35             110          210              0\n",
            "7   70             170          300              1\n"
          ]
        }
      ]
    },
    {
      "cell_type": "code",
      "source": [
        "x=df[['age','blood_pressure','cholesterol']]\n",
        "y=df['heart_disease']\n",
        "x_train,x_test,y_train,y_test=train_test_split(x,y,test_size=0.3,random_state=42)"
      ],
      "metadata": {
        "id": "FuEKJVh6pFKR"
      },
      "execution_count": null,
      "outputs": []
    },
    {
      "cell_type": "code",
      "source": [
        "model=MultinomialNB()\n",
        "model.fit(x_train,y_train)\n",
        "y_pred=model.predict(x_test)"
      ],
      "metadata": {
        "id": "M1t1Af0MqIQP"
      },
      "execution_count": null,
      "outputs": []
    },
    {
      "cell_type": "code",
      "source": [
        "import pandas as pd\n",
        "from sklearn.model_selection import train_test_split\n",
        "from sklearn.naive_bayes import MultinomialNB\n",
        "from sklearn.metrics import accuracy_score\n",
        "data={'transaction_amount':[200,1500,3000,500,1200,100,2500,700],\n",
        "      'account_age':[36,12,5,24,18,48,3,30],\n",
        "      'international_transection':[0,1,1,0,0,0,1,0],\n",
        "      'fraud':[0,1,1,0,0,0,1,0]}\n",
        "df=pd.DataFrame(data)\n",
        "print(df)"
      ],
      "metadata": {
        "colab": {
          "base_uri": "https://localhost:8080/"
        },
        "id": "gbqzzYMUquyp",
        "outputId": "b0c602cd-39d1-497a-9275-58a47450c0b3"
      },
      "execution_count": null,
      "outputs": [
        {
          "output_type": "stream",
          "name": "stdout",
          "text": [
            "   transaction_amount  account_age  international_transection  fraud\n",
            "0                 200           36                          0      0\n",
            "1                1500           12                          1      1\n",
            "2                3000            5                          1      1\n",
            "3                 500           24                          0      0\n",
            "4                1200           18                          0      0\n",
            "5                 100           48                          0      0\n",
            "6                2500            3                          1      1\n",
            "7                 700           30                          0      0\n"
          ]
        }
      ]
    },
    {
      "cell_type": "code",
      "source": [
        "x=df[['transaction_amount','account_age','international_transection']]\n",
        "y=df['fraud']\n",
        "x_train,x_test,y_train,y_test=train_test_split(x,y,test_size=0.3,random_state=42)"
      ],
      "metadata": {
        "id": "lPAug4dRtfE-"
      },
      "execution_count": null,
      "outputs": []
    },
    {
      "cell_type": "code",
      "source": [
        "model=MultinomialNB()\n",
        "model.fit(x_train,y_train)\n",
        "y_pred=model.predict(x_train)"
      ],
      "metadata": {
        "id": "n63uxMxuvdO2"
      },
      "execution_count": null,
      "outputs": []
    },
    {
      "cell_type": "code",
      "source": [
        "import pandas as pd\n",
        "from sklearn.model_selection import train_test_split\n",
        "from sklearn.naive_bayes import MultinomialNB\n",
        "from sklearn.metrics import accuracy_score\n",
        "data={'hours_student':[10,5,20,8,15,7,6,18],\n",
        "      'attendance':[90,70,95,75,85,60,65,92],\n",
        "      'assignment_complete':[8,5,10,6,9,4,7,9],\n",
        "      'pass':[1,0,1,0,1,0,0,1]}\n",
        "df=pd.DataFrame(data)\n",
        "print(df)"
      ],
      "metadata": {
        "colab": {
          "base_uri": "https://localhost:8080/"
        },
        "id": "FgAOfGdgwX9P",
        "outputId": "0e7c8658-adc0-4844-f1a9-867c753aeea5"
      },
      "execution_count": null,
      "outputs": [
        {
          "output_type": "stream",
          "name": "stdout",
          "text": [
            "   hours_student  attendance  assignment_complete  pass\n",
            "0             10          90                    8     1\n",
            "1              5          70                    5     0\n",
            "2             20          95                   10     1\n",
            "3              8          75                    6     0\n",
            "4             15          85                    9     1\n",
            "5              7          60                    4     0\n",
            "6              6          65                    7     0\n",
            "7             18          92                    9     1\n"
          ]
        }
      ]
    },
    {
      "cell_type": "code",
      "source": [
        "x=df[['hours_student','attendance','assignment_complete']]\n",
        "y=df['pass']\n",
        "x_train,x_test,y_train,y_test=train_test_split(x,y,test_size=0.3,random_state=42)\n"
      ],
      "metadata": {
        "id": "ZSIwKRv9zgFB"
      },
      "execution_count": null,
      "outputs": []
    },
    {
      "cell_type": "code",
      "source": [
        "model=MultinomialNB()\n",
        "model.fit(x_train,y_train)\n",
        "y_pred=model.predict(x_train)"
      ],
      "metadata": {
        "id": "hjnixccK0S5l"
      },
      "execution_count": null,
      "outputs": []
    }
  ]
}